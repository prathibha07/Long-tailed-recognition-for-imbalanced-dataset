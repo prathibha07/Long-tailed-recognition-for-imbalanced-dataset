{
  "nbformat": 4,
  "nbformat_minor": 0,
  "metadata": {
    "colab": {
      "name": "HW3P2_LTR_fin.ipynb",
      "provenance": [],
      "collapsed_sections": []
    },
    "kernelspec": {
      "name": "python3",
      "display_name": "Python 3"
    },
    "language_info": {
      "name": "python"
    },
    "accelerator": "GPU"
  },
  "cells": [
    {
      "cell_type": "markdown",
      "metadata": {
        "id": "qHZTpff7FaoX"
      },
      "source": [
        "# **Homework 3** Problem 2"
      ]
    },
    {
      "cell_type": "code",
      "metadata": {
        "id": "rIx1kGovJnkD"
      },
      "source": [
        "%matplotlib inline"
      ],
      "execution_count": 1,
      "outputs": []
    },
    {
      "cell_type": "markdown",
      "metadata": {
        "id": "p6ut6w0vFjzJ"
      },
      "source": [
        "## Prepare CIFAR-50 Dataset\n",
        "\n",
        "Download dataset to your Google Drive from https://drive.google.com/drive/folders/1WGUKBP5Eta9DAltK1WtvRbX43iwP08DU?usp=sharing (please use your UW account to get access).\n",
        "\n",
        "Unzip the files."
      ]
    },
    {
      "cell_type": "code",
      "metadata": {
        "id": "chI26jWGJG2c",
        "colab": {
          "base_uri": "https://localhost:8080/"
        },
        "outputId": "17088fee-3f2d-4fd5-f021-9a0321adf62e"
      },
      "source": [
        "import os\n",
        "import cv2\n",
        "import torch\n",
        "import torch.nn as nn\n",
        "import numpy as np\n",
        "import torchvision\n",
        "import torch.optim as optim\n",
        "import torch.nn.functional as F\n",
        "import torchvision.datasets as datasets\n",
        "import torchvision.transforms as transforms\n",
        "from torch.utils.data import Dataset, DataLoader\n",
        "\n",
        "device = torch.device(\"cuda\" if torch.cuda.is_available() else \"cpu\")\n",
        "\n",
        "print(torch.__version__)"
      ],
      "execution_count": 87,
      "outputs": [
        {
          "output_type": "stream",
          "name": "stdout",
          "text": [
            "1.10.0+cu111\n"
          ]
        }
      ]
    },
    {
      "cell_type": "code",
      "metadata": {
        "colab": {
          "base_uri": "https://localhost:8080/"
        },
        "id": "yvoWXKUJvlt8",
        "outputId": "b5a3a4bc-2ec9-4d72-d2b6-5c3fbe42784b"
      },
      "source": [
        "from google.colab import drive\n",
        "drive.mount('/content/drive')"
      ],
      "execution_count": 7,
      "outputs": [
        {
          "output_type": "stream",
          "name": "stdout",
          "text": [
            "Mounted at /content/drive\n"
          ]
        }
      ]
    },
    {
      "cell_type": "code",
      "metadata": {
        "id": "M3LOPXPIvuj5"
      },
      "source": [
        "!ls ./drive/MyDrive"
      ],
      "execution_count": null,
      "outputs": []
    },
    {
      "cell_type": "code",
      "metadata": {
        "id": "mNgOYd8-E8w5",
        "colab": {
          "base_uri": "https://localhost:8080/"
        },
        "outputId": "cecc41b5-dc70-40aa-ee55-4bd8ae3f0e21"
      },
      "source": [
        "!unzip ./drive/MyDrive/cifar50.zip -d ./"
      ],
      "execution_count": 9,
      "outputs": [
        {
          "output_type": "stream",
          "name": "stdout",
          "text": [
            "Archive:  ./drive/MyDrive/cifar50.zip\n",
            "  inflating: ./cifar50/cifar50_imbalance_0.02.zip  \n",
            "  inflating: ./cifar50/cifar50.zip   \n"
          ]
        }
      ]
    },
    {
      "cell_type": "code",
      "metadata": {
        "id": "bPhfQtvGHmes"
      },
      "source": [
        "!mkdir /content/data\n",
        "!unzip ./cifar50/cifar50.zip -d /content/data/cifar50/\n",
        "!unzip ./cifar50/cifar50_imbalance_0.02.zip -d /content/data/cifar50_imbalance_0.02/\n",
        "!rm -r ./cifar50"
      ],
      "execution_count": null,
      "outputs": []
    },
    {
      "cell_type": "markdown",
      "metadata": {
        "id": "tcqbKid7HGWS"
      },
      "source": [
        "Load and print label files to know the format of the provided labels.\n",
        "- `cifar50_train.json`\n",
        "- `cifar50_imbalance_0.02_train.json`"
      ]
    },
    {
      "cell_type": "code",
      "metadata": {
        "id": "UAs_ne9Fxps0"
      },
      "source": [
        "# TODO: load json files and print.\n",
        "import json\n",
        "\n",
        "with open (\"/content/data/cifar50/cifar50_train.json\", mode='r') as f:\n",
        "    json_dump=f.read()\n",
        "cifar50_train_json = json.loads(json_dump)\n",
        "\n",
        "with open (\"/content/data/cifar50_imbalance/cifar50_imbalance_0.02_train.json\", mode='r') as f:\n",
        "    json_dump=f.read()\n",
        "cifar50_imbalance_train_json = json.loads(json_dump)\n"
      ],
      "execution_count": 17,
      "outputs": []
    },
    {
      "cell_type": "code",
      "metadata": {
        "colab": {
          "base_uri": "https://localhost:8080/"
        },
        "id": "k5_ovav3y7hk",
        "outputId": "8ef59ed1-df8d-4759-dfbd-0db751e1d971"
      },
      "source": [
        "import pprint\n",
        "print(\"cifar50_train.json (truncated): \")\n",
        "pprint.pprint(cifar50_train_json['annotations'][0:5])\n",
        "\n",
        "print(\"\\n\\ncifar50_imbalance_0.02_train.json (truncated): \")\n",
        "pprint.pprint(cifar50_imbalance_train_json['annotations'][0:5])"
      ],
      "execution_count": 18,
      "outputs": [
        {
          "output_type": "stream",
          "name": "stdout",
          "text": [
            "cifar50_train.json (truncated): \n",
            "[{'category': 'apple',\n",
            "  'category_id': 0,\n",
            "  'fpath': 'data\\\\cifar50\\\\images\\\\apple\\\\train_0.jpg',\n",
            "  'image_id': 0},\n",
            " {'category': 'telephone',\n",
            "  'category_id': 86,\n",
            "  'fpath': 'data\\\\cifar50\\\\images\\\\telephone\\\\train_1.jpg',\n",
            "  'image_id': 1},\n",
            " {'category': 'train',\n",
            "  'category_id': 90,\n",
            "  'fpath': 'data\\\\cifar50\\\\images\\\\train\\\\train_2.jpg',\n",
            "  'image_id': 2},\n",
            " {'category': 'cup',\n",
            "  'category_id': 28,\n",
            "  'fpath': 'data\\\\cifar50\\\\images\\\\cup\\\\train_3.jpg',\n",
            "  'image_id': 3},\n",
            " {'category': 'willow_tree',\n",
            "  'category_id': 96,\n",
            "  'fpath': 'data\\\\cifar50\\\\images\\\\willow_tree\\\\train_4.jpg',\n",
            "  'image_id': 4}]\n",
            "\n",
            "\n",
            "cifar50_imbalance_0.02_train.json (truncated): \n",
            "[{'category': 'apple',\n",
            "  'category_id': 0,\n",
            "  'fpath': 'data\\\\cifar50_imbalance_0.02\\\\images\\\\apple\\\\train_0.jpg',\n",
            "  'image_id': 0},\n",
            " {'category': 'apple',\n",
            "  'category_id': 0,\n",
            "  'fpath': 'data\\\\cifar50_imbalance_0.02\\\\images\\\\apple\\\\train_1.jpg',\n",
            "  'image_id': 1},\n",
            " {'category': 'apple',\n",
            "  'category_id': 0,\n",
            "  'fpath': 'data\\\\cifar50_imbalance_0.02\\\\images\\\\apple\\\\train_2.jpg',\n",
            "  'image_id': 2},\n",
            " {'category': 'apple',\n",
            "  'category_id': 0,\n",
            "  'fpath': 'data\\\\cifar50_imbalance_0.02\\\\images\\\\apple\\\\train_3.jpg',\n",
            "  'image_id': 3},\n",
            " {'category': 'apple',\n",
            "  'category_id': 0,\n",
            "  'fpath': 'data\\\\cifar50_imbalance_0.02\\\\images\\\\apple\\\\train_4.jpg',\n",
            "  'image_id': 4}]\n"
          ]
        }
      ]
    },
    {
      "cell_type": "code",
      "metadata": {
        "id": "bCDQtHE31QHf"
      },
      "source": [
        "class CIFAR50(Dataset):\n",
        "  def __init__(self, json_file,root_dir,transform=None):\n",
        "    \n",
        "    self.category_dict = {}\n",
        "    self.category_count_dict = {}\n",
        "    with open (json_file, mode='r') as f:\n",
        "      json_dump = f.read()\n",
        "    json_fomatted = json.loads(json_dump)\n",
        "\n",
        "    for i in range (len(json_fomatted['annotations'])):\n",
        "      category_id = int(json_fomatted['annotations'][i]['category_id']/2)\n",
        "      json_fomatted['annotations'][i]['category_id'] = category_id \n",
        "      if category_id not in self.category_dict:\n",
        "          self.category_dict[category_id]  = json_fomatted['annotations'][i]['category']\n",
        "      \n",
        "      if category_id not in self.category_count_dict:\n",
        "          self.category_count_dict[category_id] = 0\n",
        "      else:\n",
        "          self.category_count_dict[category_id] += 1\n",
        "\n",
        "    self.annotations = json_fomatted['annotations']\n",
        "    self.root_dir = root_dir\n",
        "    self.transform = transform\n",
        "\n",
        "  def __len__(self):\n",
        "    return (len(self.annotations))\n",
        "  \n",
        "  def __getitem__(self,index):\n",
        "    from pdb import set_trace as bp\n",
        "    img_path=os.path.join(self.annotations[index]['fpath'].replace('\\\\','/'))\n",
        "    # print(img_path)\n",
        "    image_raw=cv2.imread(img_path)\n",
        "    image=image_raw[:,:,::-1].copy()\n",
        "    # image=rgb_formatter(image_raw)\n",
        "    y_label=torch.tensor(int(self.annotations[index]['category_id']))\n",
        "    if self.transform:\n",
        "      image=self.transform(image)\n",
        "\n",
        "    return (image,y_label)\n",
        "\n",
        "trainset_balanced = CIFAR50(json_file=\"/content/data/cifar50/cifar50_train.json\", root_dir='/content/data/cifar50/images', transform=transforms.ToTensor())\n",
        "testset_balanced = CIFAR50(json_file=\"/content/data/cifar50/cifar50_test.json\", root_dir='/content/data/cifar50/images', transform=transforms.ToTensor())\n",
        "\n",
        "testset_imbalanced = CIFAR50(json_file=\"/content/data/cifar50_imbalance_0.02/cifar50_imbalance_0.02_test.json\", root_dir='/content/data/cifar50_imbalance/images', transform=transforms.ToTensor())\n",
        "trainset_imbalanced = CIFAR50(json_file=\"/content/data/cifar50_imbalance_0.02/cifar50_imbalance_0.02_train.json\", root_dir='/content/data/cifar50_imbalance/images', transform=transforms.ToTensor())\n",
        "\n",
        "BATCH_SIZE = 128\n",
        "trainloader_balanced = DataLoader(trainset_balanced, batch_size=BATCH_SIZE, shuffle=True)\n",
        "testloader_balanced = DataLoader(testset_balanced, batch_size=BATCH_SIZE, shuffle=True)\n",
        "trainloader_imbalanced = DataLoader(trainset_imbalanced, batch_size=BATCH_SIZE, shuffle=True)\n",
        "testloader_imbalanced = DataLoader(testset_imbalanced, batch_size=BATCH_SIZE, shuffle=True)"
      ],
      "execution_count": 249,
      "outputs": []
    },
    {
      "cell_type": "markdown",
      "metadata": {
        "id": "ZljJaEcJGsA_"
      },
      "source": [
        "Show some images with labels (class names) from dataset."
      ]
    },
    {
      "cell_type": "code",
      "metadata": {
        "id": "ouwOe97XHli1",
        "colab": {
          "base_uri": "https://localhost:8080/",
          "height": 532
        },
        "outputId": "b22bec55-3fff-4a1b-dec1-7319ad7fead3"
      },
      "source": [
        "# TODO: visualize some data with labels.\n",
        "import matplotlib.pyplot as plt \n",
        "batch_tensor, batch_labels = next(iter(trainloader_balanced))\n",
        "\n",
        "f, axarr = plt.subplots(4,4, figsize=(8,8), dpi=80)\n",
        "plt.axis('off')\n",
        "\n",
        "for i in range(4):\n",
        "    for j in range(4):\n",
        "        axarr[i,j].set_axis_off()\n",
        "        axarr[i,j].set_title(f\"Class: {trainset_balanced.category_dict[batch_labels[4*i + j].item()]}\")\n",
        "        axarr[i,j].imshow(batch_tensor[4*i + j].permute(1,2,0).numpy())"
      ],
      "execution_count": 25,
      "outputs": [
        {
          "output_type": "display_data",
          "data": {
            "image/png": "[encoded data removed]",
            "text/plain": [
              "<Figure size 640x640 with 16 Axes>"
            ]
          },
          "metadata": {
            "needs_background": "light"
          }
        }
      ]
    },
    {
      "cell_type": "markdown",
      "metadata": {
        "id": "ej_TdcW2Hw8f"
      },
      "source": [
        "## Train CNNs.\n",
        "\n",
        "#### Use the CNN in HW2 to train the model on the balanced CIFAR50 dataset.\n",
        "\n",
        "Train the CNN on the balanced CIFAR50 training set. Evaluate and report the classification accuracies on the testing set. \n",
        "\n",
        "Note: You can use any network configurations you implemented in HW2."
      ]
    },
    {
      "cell_type": "code",
      "metadata": {
        "id": "boX_VtoaHbdy"
      },
      "source": [
        "class CNN(nn.Module):\n",
        "    def __init__(self):\n",
        "        super().__init__()\n",
        "        self.network = nn.Sequential(\n",
        "            nn.Conv2d(3, 32, kernel_size=3, padding=1),\n",
        "            nn.ReLU(),\n",
        "            nn.Conv2d(32, 64, kernel_size=3, stride=1, padding=1),\n",
        "            nn.ReLU(),\n",
        "            nn.MaxPool2d(2, 2), # output: 64 x 16 x 16\n",
        "\n",
        "            nn.Conv2d(64, 128, kernel_size=3, stride=1, padding=1),\n",
        "            nn.ReLU(),\n",
        "            nn.Conv2d(128, 128, kernel_size=3, stride=1, padding=1),\n",
        "            nn.ReLU(),\n",
        "            nn.MaxPool2d(2, 2), # output: 128 x 8 x 8\n",
        "\n",
        "            nn.Conv2d(128, 256, kernel_size=3, stride=1, padding=1),\n",
        "            nn.ReLU(),\n",
        "            nn.Conv2d(256, 256, kernel_size=3, stride=1, padding=1),\n",
        "            nn.ReLU(),\n",
        "            nn.MaxPool2d(2, 2), # output: 256 x 4 x 4\n",
        "\n",
        "            nn.Flatten(), \n",
        "            nn.Linear(256*4*4, 1024),\n",
        "            nn.ReLU(),\n",
        "            nn.Linear(1024, 512),\n",
        "            nn.ReLU(),\n",
        "            nn.Linear(512, 50))\n",
        "        \n",
        "    def forward(self, xb):\n",
        "        return self.network(xb)"
      ],
      "execution_count": 64,
      "outputs": []
    },
    {
      "cell_type": "code",
      "metadata": {
        "id": "0MCkaoJDLb5y"
      },
      "source": [
        "cnn_balanced = CNN().to(device)  # operate on GPU\n",
        "criterion = nn.CrossEntropyLoss()\n",
        "optimizer = optim.Adam(cnn_balanced.parameters(), lr=0.001)"
      ],
      "execution_count": 65,
      "outputs": []
    },
    {
      "cell_type": "code",
      "metadata": {
        "id": "dnFvYwHfIj-v",
        "colab": {
          "base_uri": "https://localhost:8080/"
        },
        "outputId": "f7a578b8-b060-41c4-c4d4-322aa8c1ac2b"
      },
      "source": [
        "n_epoch = 10\n",
        "train_losses_cnn = []\n",
        "train_accuracies_cnn = []\n",
        "\n",
        "for epoch in range(n_epoch):  # loop over the dataset multiple times\n",
        "  train_epoch_loss_cnn = []       # capturing loss of batches in an epoch\n",
        "  correct = 0\n",
        "  processed = 0\n",
        "  for i, (data,target) in enumerate(trainloader_balanced):\n",
        "    data, target = data.to(device), target.to(device)\n",
        "    optimizer.zero_grad()\n",
        "    y_pred = cnn_balanced(data)\n",
        "    loss = criterion(y_pred, target)\n",
        "    loss.backward()\n",
        "    train_epoch_loss_cnn.append(loss.item())\n",
        "    optimizer.step()\n",
        "    \n",
        "    pred = y_pred.argmax(dim=1, keepdim=True)  # get the index of the max log-probability    \n",
        "    correct += pred.eq(target.view_as(pred)).sum().item()\n",
        "    processed += len(data)\n",
        "\n",
        "    if i % 50 == 0:\n",
        "      print(f'Epoch={epoch}   Loss={loss.item():.5f}   Batch_id={i}   Accuracy={100*correct/processed:0.2f}')\n",
        "\n",
        "  print(\"*\"*100)\n",
        "  train_losses_cnn.append(np.mean(np.array(train_epoch_loss_cnn)))\n",
        "  train_accuracies_cnn.append(100*correct/processed)"
      ],
      "execution_count": 40,
      "outputs": [
        {
          "output_type": "stream",
          "name": "stdout",
          "text": [
            "Epoch=0   Loss=3.91545   Batch_id=0   Accuracy=1.56\n",
            "Epoch=0   Loss=3.91209   Batch_id=50   Accuracy=1.95\n",
            "Epoch=0   Loss=3.91443   Batch_id=100   Accuracy=1.97\n",
            "Epoch=0   Loss=3.64266   Batch_id=150   Accuracy=2.58\n",
            "****************************************************************************************************\n",
            "Epoch=1   Loss=3.42259   Batch_id=0   Accuracy=7.03\n",
            "Epoch=1   Loss=3.43366   Batch_id=50   Accuracy=7.89\n",
            "Epoch=1   Loss=3.17281   Batch_id=100   Accuracy=9.41\n",
            "Epoch=1   Loss=3.17158   Batch_id=150   Accuracy=10.50\n",
            "****************************************************************************************************\n",
            "Epoch=2   Loss=3.06512   Batch_id=0   Accuracy=17.97\n",
            "Epoch=2   Loss=3.05661   Batch_id=50   Accuracy=17.28\n",
            "Epoch=2   Loss=2.82189   Batch_id=100   Accuracy=19.08\n",
            "Epoch=2   Loss=2.81083   Batch_id=150   Accuracy=19.99\n",
            "****************************************************************************************************\n",
            "Epoch=3   Loss=3.01934   Batch_id=0   Accuracy=15.62\n",
            "Epoch=3   Loss=2.70008   Batch_id=50   Accuracy=25.87\n",
            "Epoch=3   Loss=2.70165   Batch_id=100   Accuracy=26.48\n",
            "Epoch=3   Loss=2.63406   Batch_id=150   Accuracy=26.85\n",
            "****************************************************************************************************\n",
            "Epoch=4   Loss=2.51859   Batch_id=0   Accuracy=32.81\n",
            "Epoch=4   Loss=2.77186   Batch_id=50   Accuracy=30.56\n",
            "Epoch=4   Loss=2.46483   Batch_id=100   Accuracy=31.19\n",
            "Epoch=4   Loss=2.36206   Batch_id=150   Accuracy=31.54\n",
            "****************************************************************************************************\n",
            "Epoch=5   Loss=2.44760   Batch_id=0   Accuracy=28.12\n",
            "Epoch=5   Loss=2.42754   Batch_id=50   Accuracy=35.59\n",
            "Epoch=5   Loss=2.15547   Batch_id=100   Accuracy=36.29\n",
            "Epoch=5   Loss=2.03536   Batch_id=150   Accuracy=36.41\n",
            "****************************************************************************************************\n",
            "Epoch=6   Loss=2.08571   Batch_id=0   Accuracy=48.44\n",
            "Epoch=6   Loss=2.23774   Batch_id=50   Accuracy=39.92\n",
            "Epoch=6   Loss=2.05284   Batch_id=100   Accuracy=40.08\n",
            "Epoch=6   Loss=1.78273   Batch_id=150   Accuracy=40.16\n",
            "****************************************************************************************************\n",
            "Epoch=7   Loss=2.02800   Batch_id=0   Accuracy=38.28\n",
            "Epoch=7   Loss=1.92178   Batch_id=50   Accuracy=45.53\n",
            "Epoch=7   Loss=1.94866   Batch_id=100   Accuracy=44.93\n",
            "Epoch=7   Loss=2.07323   Batch_id=150   Accuracy=44.78\n",
            "****************************************************************************************************\n",
            "Epoch=8   Loss=1.71591   Batch_id=0   Accuracy=52.34\n",
            "Epoch=8   Loss=1.62051   Batch_id=50   Accuracy=49.40\n",
            "Epoch=8   Loss=2.00426   Batch_id=100   Accuracy=48.99\n",
            "Epoch=8   Loss=1.78699   Batch_id=150   Accuracy=49.19\n",
            "****************************************************************************************************\n",
            "Epoch=9   Loss=1.59844   Batch_id=0   Accuracy=51.56\n",
            "Epoch=9   Loss=1.73479   Batch_id=50   Accuracy=55.07\n",
            "Epoch=9   Loss=1.41281   Batch_id=100   Accuracy=54.98\n",
            "Epoch=9   Loss=1.81486   Batch_id=150   Accuracy=54.72\n",
            "****************************************************************************************************\n"
          ]
        }
      ]
    },
    {
      "cell_type": "code",
      "metadata": {
        "id": "m0vi-rgGIq3J"
      },
      "source": [
        "torch.save(cnn_balanced.state_dict(), './cnn_cifar10_balanced.pth')"
      ],
      "execution_count": 43,
      "outputs": []
    },
    {
      "cell_type": "code",
      "metadata": {
        "id": "v24VEAe9I6NU",
        "colab": {
          "base_uri": "https://localhost:8080/"
        },
        "outputId": "87426ed3-a376-42e1-d261-f6cd66d7c3a2"
      },
      "source": [
        "with torch.no_grad():\n",
        "  test_epoch_loss_cnn = []       # capturing loss of batches in an epoch\n",
        "  correct = 0\n",
        "  processed = 0\n",
        "  for i, (data, target) in enumerate(testloader_balanced):\n",
        "    data, target = data.to(device), target.to(device)\n",
        "    y_pred = cnn_balanced(data)\n",
        "    loss = criterion(y_pred, target)\n",
        "    test_epoch_loss_cnn.append(loss.item())\n",
        "    pred = y_pred.argmax(dim=1, keepdim=True)  # get the index of the max log-probability    \n",
        "    correct += pred.eq(target.view_as(pred)).sum().item()\n",
        "    processed += len(data)\n",
        "\n",
        "    if i % 100 == 0:\n",
        "      print(f'Loss={loss.item():.5f} Batch_id={i} Accuracy={100*correct/processed:0.2f}')\n",
        "\n",
        "  print(\"*\"*100)\n",
        "  print(\"Test loss : \", np.mean(np.array(test_epoch_loss_cnn)))\n",
        "  print(\"Test Accuracy : \", 100*correct/processed)"
      ],
      "execution_count": 45,
      "outputs": [
        {
          "output_type": "stream",
          "name": "stdout",
          "text": [
            "Loss=2.16531 Batch_id=0 Accuracy=46.88\n",
            "****************************************************************************************************\n",
            "Test loss :  2.2945925682783126\n",
            "Test Accuracy :  41.22\n"
          ]
        }
      ]
    },
    {
      "cell_type": "markdown",
      "metadata": {
        "id": "lywhjSClLLE8"
      },
      "source": [
        "#### Use the same CNN in HW2 to train the model on the imbalanced CIFAR50 dataset.\n",
        "\n",
        "Train the CNN on the imbalanced CIFAR50 training set. Evaluate and report the classification accuracies on the testing set. \n"
      ]
    },
    {
      "cell_type": "code",
      "metadata": {
        "id": "sSxJvd3MhgOp"
      },
      "source": [
        "cnn_imbalanced = CNN().to(device)  # operate on GPU\n",
        "criterion = nn.CrossEntropyLoss()\n",
        "optimizer = optim.Adam(cnn_imbalanced.parameters(), lr=0.001)"
      ],
      "execution_count": 75,
      "outputs": []
    },
    {
      "cell_type": "code",
      "metadata": {
        "colab": {
          "base_uri": "https://localhost:8080/"
        },
        "id": "POvwVVe4h0Gi",
        "outputId": "aee79a5c-491d-418e-aa84-de374342611c"
      },
      "source": [
        "n_epoch = 10\n",
        "train_losses_cnn = []\n",
        "train_accuracies_cnn = []\n",
        "\n",
        "for epoch in range(n_epoch):  # loop over the dataset multiple times\n",
        "  train_epoch_loss_cnn = []       # capturing loss of batches in an epoch\n",
        "  correct = 0\n",
        "  processed = 0\n",
        "  for i, (data,target) in enumerate(trainloader_imbalanced):\n",
        "    data, target = data.to(device), target.to(device)\n",
        "    optimizer.zero_grad()\n",
        "    y_pred = cnn_imbalanced(data)\n",
        "    loss = criterion(y_pred, target)\n",
        "    loss.backward()\n",
        "    train_epoch_loss_cnn.append(loss.item())\n",
        "    optimizer.step()\n",
        "    \n",
        "    pred = y_pred.argmax(dim=1, keepdim=True)  # get the index of the max log-probability    \n",
        "    correct += pred.eq(target.view_as(pred)).sum().item()\n",
        "    processed += len(data)\n",
        "\n",
        "    if i % 50 == 0:\n",
        "      print(f'Epoch={epoch}   Loss={loss.item():.5f}   Batch_id={i}   Accuracy={100*correct/processed:0.2f}')\n",
        "\n",
        "  print(\"*\"*100)\n",
        "  train_losses_cnn.append(np.mean(np.array(train_epoch_loss_cnn)))\n",
        "  train_accuracies_cnn.append(100*correct/processed)"
      ],
      "execution_count": 76,
      "outputs": [
        {
          "output_type": "stream",
          "name": "stdout",
          "text": [
            "Epoch=0   Loss=3.91685   Batch_id=0   Accuracy=0.78\n",
            "Epoch=0   Loss=3.65342   Batch_id=50   Accuracy=6.73\n",
            "****************************************************************************************************\n",
            "Epoch=1   Loss=3.40660   Batch_id=0   Accuracy=7.03\n",
            "Epoch=1   Loss=3.37038   Batch_id=50   Accuracy=7.08\n",
            "****************************************************************************************************\n",
            "Epoch=2   Loss=3.37952   Batch_id=0   Accuracy=8.59\n",
            "Epoch=2   Loss=3.23678   Batch_id=50   Accuracy=7.57\n",
            "****************************************************************************************************\n",
            "Epoch=3   Loss=3.45267   Batch_id=0   Accuracy=8.59\n",
            "Epoch=3   Loss=3.40288   Batch_id=50   Accuracy=9.98\n",
            "****************************************************************************************************\n",
            "Epoch=4   Loss=3.28419   Batch_id=0   Accuracy=17.97\n",
            "Epoch=4   Loss=3.26993   Batch_id=50   Accuracy=13.64\n",
            "****************************************************************************************************\n",
            "Epoch=5   Loss=3.23003   Batch_id=0   Accuracy=17.97\n",
            "Epoch=5   Loss=3.10734   Batch_id=50   Accuracy=16.70\n",
            "****************************************************************************************************\n",
            "Epoch=6   Loss=3.02836   Batch_id=0   Accuracy=22.66\n",
            "Epoch=6   Loss=3.07004   Batch_id=50   Accuracy=18.85\n",
            "****************************************************************************************************\n",
            "Epoch=7   Loss=3.03276   Batch_id=0   Accuracy=18.75\n",
            "Epoch=7   Loss=2.69859   Batch_id=50   Accuracy=21.94\n",
            "****************************************************************************************************\n",
            "Epoch=8   Loss=2.91793   Batch_id=0   Accuracy=20.31\n",
            "Epoch=8   Loss=2.88002   Batch_id=50   Accuracy=23.58\n",
            "****************************************************************************************************\n",
            "Epoch=9   Loss=2.81745   Batch_id=0   Accuracy=25.78\n",
            "Epoch=9   Loss=2.49414   Batch_id=50   Accuracy=25.99\n",
            "****************************************************************************************************\n"
          ]
        }
      ]
    },
    {
      "cell_type": "code",
      "metadata": {
        "id": "NCCJEN7OmmIc"
      },
      "source": [
        "torch.save(cnn_balanced.state_dict(), './cnn_cifar10_imbalanced.pth')"
      ],
      "execution_count": 77,
      "outputs": []
    },
    {
      "cell_type": "code",
      "metadata": {
        "colab": {
          "base_uri": "https://localhost:8080/"
        },
        "id": "vuU6_uQymps9",
        "outputId": "4a2192cd-c9ee-4504-93d8-f076f34417c1"
      },
      "source": [
        "with torch.no_grad():\n",
        "  test_epoch_loss_cnn = []       # capturing loss of batches in an epoch\n",
        "  correct = 0\n",
        "  processed = 0\n",
        "  for i, (data, target) in enumerate(testloader_imbalanced):\n",
        "    data, target = data.to(device), target.to(device)\n",
        "    y_pred = cnn_imbalanced(data)\n",
        "    loss = criterion(y_pred, target)\n",
        "    test_epoch_loss_cnn.append(loss.item())\n",
        "    pred = y_pred.argmax(dim=1, keepdim=True)  # get the index of the max log-probability    \n",
        "    correct += pred.eq(target.view_as(pred)).sum().item()\n",
        "    processed += len(data)\n",
        "\n",
        "    if i % 100 == 0:\n",
        "      print(f'Loss={loss.item():.5f} Batch_id={i} Accuracy={100*correct/processed:0.2f}')\n",
        "\n",
        "  print(\"*\"*100)\n",
        "  print(\"Test loss : \", np.mean(np.array(test_epoch_loss_cnn)))\n",
        "  print(\"Test Accuracy : \", 100*correct/processed)"
      ],
      "execution_count": 78,
      "outputs": [
        {
          "output_type": "stream",
          "name": "stdout",
          "text": [
            "Loss=4.03880 Batch_id=0 Accuracy=16.41\n",
            "****************************************************************************************************\n",
            "Test loss :  4.2235021650791165\n",
            "Test Accuracy :  10.92\n"
          ]
        }
      ]
    },
    {
      "cell_type": "markdown",
      "metadata": {
        "id": "JW-pLNGJL7sD"
      },
      "source": [
        "## Implement Tricks for LTR\n",
        "\n",
        "Before starting this question, please read the paper for this homework: Bag of tricks for long-tailed visual recognition with deep convolutional neural networks.\n",
        "\n",
        "According to this paper, select at least **three** tricks to implement on the imbalanced CIFAR50 training. "
      ]
    },
    {
      "cell_type": "markdown",
      "metadata": {
        "id": "TQ7zS8LwMzgm"
      },
      "source": [
        "Re-weighting methods\n",
        "Re-sampling methods\n",
        "Mixup training\n",
        "Two-stage training procedures\n",
        "The proposed CAM-based sampling for DRS"
      ]
    },
    {
      "cell_type": "markdown",
      "metadata": {
        "id": "o2wKdndH2-Wi"
      },
      "source": [
        "**TRICK 1: Class-balanced sampling (Kang et al. 2020)**"
      ]
    },
    {
      "cell_type": "code",
      "metadata": {
        "id": "-c1hp1R73InQ"
      },
      "source": [
        "# TODO: trick 2 implementation\n",
        "BATCH_SIZE = 128\n",
        "train_count_imbalanced = list(trainset_imbalanced.category_count_dict.values()) \n",
        "train_class_weights = 1 / torch.Tensor(train_count_imbalanced)\n",
        "train_sample_weights = []\n",
        "for i in range (len(trainset_imbalanced.annotations)):\n",
        "    category_id = (trainset_imbalanced.annotations[i]['category_id'])\n",
        "    train_sample_weights.append(train_class_weights[category_id])\n",
        "trainsampler_trick2 = torch.utils.data.sampler.WeightedRandomSampler(train_sample_weights, len(train_sample_weights))\n",
        "trainloader_imbalanced_trick2 = DataLoader(trainset_imbalanced, batch_size = BATCH_SIZE, sampler = trainsampler_trick2)\n",
        "\n",
        "test_count_imbalanced = list(testset_imbalanced.category_count_dict.values())\n",
        "test_class_weights = 1 / torch.Tensor(test_count_imbalanced)\n",
        "test_sample_weights = []\n",
        "for i in range (len(testset_imbalanced.annotations)):\n",
        "    category_id = (testset_imbalanced.annotations[i]['category_id'])\n",
        "    test_sample_weights.append(test_class_weights[category_id])\n",
        "testsampler_trick2 = torch.utils.data.sampler.WeightedRandomSampler(test_weights, len(test_sample_weights))\n",
        "testloader_imbalanced_trick2 = DataLoader(testset_imbalanced, batch_size = BATCH_SIZE, sampler = testsampler_trick2)"
      ],
      "execution_count": 157,
      "outputs": []
    },
    {
      "cell_type": "code",
      "metadata": {
        "id": "gxkz0tpp6mFW"
      },
      "source": [
        "cnn_imbalanced_trick2 = CNN().to(device)  # operate on GPU\n",
        "criterion = nn.CrossEntropyLoss()\n",
        "optimizer = optim.Adam(cnn_imbalanced_trick2.parameters(), lr=0.001)"
      ],
      "execution_count": 158,
      "outputs": []
    },
    {
      "cell_type": "code",
      "metadata": {
        "colab": {
          "base_uri": "https://localhost:8080/"
        },
        "id": "1IgkhlPH6tp0",
        "outputId": "ecc81a56-c04c-4c0b-ee50-b4612369c52d"
      },
      "source": [
        "n_epoch = 10\n",
        "train_losses_cnn = []\n",
        "train_accuracies_cnn = []\n",
        "\n",
        "for epoch in range(n_epoch):  # loop over the dataset multiple times\n",
        "  train_epoch_loss_cnn = []       # capturing loss of batches in an epoch\n",
        "  correct = 0\n",
        "  processed = 0\n",
        "  for i, (data,target) in enumerate(trainloader_imbalanced_trick2):\n",
        "    data, target = data.to(device), target.to(device)\n",
        "    optimizer.zero_grad()\n",
        "    y_pred = cnn_imbalanced_trick2(data)\n",
        "    loss = criterion(y_pred, target)\n",
        "    loss.backward()\n",
        "    train_epoch_loss_cnn.append(loss.item())\n",
        "    optimizer.step()\n",
        "    \n",
        "    pred = y_pred.argmax(dim=1, keepdim=True)  # get the index of the max log-probability    \n",
        "    correct += pred.eq(target.view_as(pred)).sum().item()\n",
        "    processed += len(data)\n",
        "\n",
        "    if i % 50 == 0:\n",
        "      print(f'Epoch={epoch}   Loss={loss.item():.5f}   Batch_id={i}   Accuracy={100*correct/processed:0.2f}')\n",
        "\n",
        "  print(\"*\"*100)\n",
        "  train_losses_cnn.append(np.mean(np.array(train_epoch_loss_cnn)))\n",
        "  train_accuracies_cnn.append(100*correct/processed)"
      ],
      "execution_count": 159,
      "outputs": [
        {
          "output_type": "stream",
          "name": "stdout",
          "text": [
            "Epoch=0   Loss=3.90847   Batch_id=0   Accuracy=0.78\n",
            "Epoch=0   Loss=3.76005   Batch_id=50   Accuracy=2.88\n",
            "****************************************************************************************************\n",
            "Epoch=1   Loss=3.85390   Batch_id=0   Accuracy=1.56\n",
            "Epoch=1   Loss=3.48900   Batch_id=50   Accuracy=6.24\n",
            "****************************************************************************************************\n",
            "Epoch=2   Loss=3.55358   Batch_id=0   Accuracy=6.25\n",
            "Epoch=2   Loss=3.04990   Batch_id=50   Accuracy=11.51\n",
            "****************************************************************************************************\n",
            "Epoch=3   Loss=3.16345   Batch_id=0   Accuracy=14.06\n",
            "Epoch=3   Loss=3.26272   Batch_id=50   Accuracy=20.75\n",
            "****************************************************************************************************\n",
            "Epoch=4   Loss=2.60085   Batch_id=0   Accuracy=28.12\n",
            "Epoch=4   Loss=2.36771   Batch_id=50   Accuracy=32.61\n",
            "****************************************************************************************************\n",
            "Epoch=5   Loss=1.87193   Batch_id=0   Accuracy=50.00\n",
            "Epoch=5   Loss=1.98436   Batch_id=50   Accuracy=46.30\n",
            "****************************************************************************************************\n",
            "Epoch=6   Loss=1.82880   Batch_id=0   Accuracy=51.56\n",
            "Epoch=6   Loss=1.36733   Batch_id=50   Accuracy=55.89\n",
            "****************************************************************************************************\n",
            "Epoch=7   Loss=1.15742   Batch_id=0   Accuracy=64.84\n",
            "Epoch=7   Loss=1.48961   Batch_id=50   Accuracy=64.23\n",
            "****************************************************************************************************\n",
            "Epoch=8   Loss=1.26960   Batch_id=0   Accuracy=69.53\n",
            "Epoch=8   Loss=0.82685   Batch_id=50   Accuracy=70.26\n",
            "****************************************************************************************************\n",
            "Epoch=9   Loss=1.13953   Batch_id=0   Accuracy=66.41\n",
            "Epoch=9   Loss=0.64389   Batch_id=50   Accuracy=73.30\n",
            "****************************************************************************************************\n"
          ]
        }
      ]
    },
    {
      "cell_type": "code",
      "metadata": {
        "id": "TZ3uQXngD4rS"
      },
      "source": [
        "torch.save(cnn_imbalanced_trick2.state_dict(), './cnn_cifar10_imbalanced_trick2.pth')"
      ],
      "execution_count": 161,
      "outputs": []
    },
    {
      "cell_type": "code",
      "metadata": {
        "colab": {
          "base_uri": "https://localhost:8080/"
        },
        "id": "jx1rkSidB_fh",
        "outputId": "3220fea2-8590-47ce-b3bd-0abe3ba6a69f"
      },
      "source": [
        "with torch.no_grad():\n",
        "  test_epoch_loss_cnn = []       # capturing loss of batches in an epoch\n",
        "  correct = 0\n",
        "  processed = 0\n",
        "  for i, (data, target) in enumerate(testloader_imbalanced_trick2):\n",
        "    data, target = data.to(device), target.to(device)\n",
        "    y_pred = cnn_imbalanced_trick2(data)\n",
        "    loss = criterion(y_pred, target)\n",
        "    test_epoch_loss_cnn.append(loss.item())\n",
        "    pred = y_pred.argmax(dim=1, keepdim=True)  # get the index of the max log-probability    \n",
        "    correct += pred.eq(target.view_as(pred)).sum().item()\n",
        "    processed += len(data)\n",
        "\n",
        "    if i % 100 == 0:\n",
        "      print(f'Loss={loss.item():.5f} Batch_id={i} Accuracy={100*correct/processed:0.2f}')\n",
        "\n",
        "  print(\"*\"*100)\n",
        "  print(\"Test loss : \", np.mean(np.array(test_epoch_loss_cnn)))\n",
        "  print(\"Test Accuracy : \", 100*correct/processed)"
      ],
      "execution_count": 160,
      "outputs": [
        {
          "output_type": "stream",
          "name": "stdout",
          "text": [
            "Loss=4.55713 Batch_id=0 Accuracy=26.56\n",
            "****************************************************************************************************\n",
            "Test loss :  3.958293694257736\n",
            "Test Accuracy :  29.32\n"
          ]
        }
      ]
    },
    {
      "cell_type": "markdown",
      "metadata": {
        "id": "rBejbwk30pyO"
      },
      "source": [
        "**TRICK 2: Focal Loss (Lin et al. 2017)**"
      ]
    },
    {
      "cell_type": "code",
      "metadata": {
        "id": "p2OD3Cw4wNLe"
      },
      "source": [
        "from typing import Optional\n",
        "def one_hot(\n",
        "    labels: torch.Tensor,\n",
        "    num_classes: int,\n",
        "    device: Optional[torch.device] = None,\n",
        "    dtype: Optional[torch.dtype] = None,\n",
        "    eps: float = 1e-6,\n",
        ") -> torch.Tensor:\n",
        "    if not isinstance(labels, torch.Tensor):\n",
        "        raise TypeError(f\"Input labels type is not a torch.Tensor. Got {type(labels)}\")\n",
        "    if not labels.dtype == torch.int64:\n",
        "        raise ValueError(f\"labels must be of the same dtype torch.int64. Got: {labels.dtype}\")\n",
        "    if num_classes < 1:\n",
        "        raise ValueError(\"The number of classes must be bigger than one.\" \" Got: {}\".format(num_classes))\n",
        "    shape = labels.shape\n",
        "    one_hot = torch.zeros((shape[0], num_classes) + shape[1:], device=device, dtype=dtype)\n",
        "    return one_hot.scatter_(1, labels.unsqueeze(1), 1.0) + eps\n",
        "\n",
        "def focal_loss(\n",
        "    input: torch.Tensor,\n",
        "    target: torch.Tensor,\n",
        "    alpha: float,\n",
        "    gamma: float = 2.0,\n",
        "    reduction: str = 'none',\n",
        "    eps: Optional[float] = None,\n",
        ") -> torch.Tensor:\n",
        "    if eps is not None and not torch.jit.is_scripting():\n",
        "        warnings.warn(\n",
        "            \"`focal_loss` has been reworked for improved numerical stability \"\n",
        "            \"and the `eps` argument is no longer necessary\",\n",
        "            DeprecationWarning,\n",
        "            stacklevel=2,\n",
        "        )\n",
        "\n",
        "    if not isinstance(input, torch.Tensor):\n",
        "        raise TypeError(f\"Input type is not a torch.Tensor. Got {type(input)}\")\n",
        "\n",
        "    if not len(input.shape) >= 2:\n",
        "        raise ValueError(f\"Invalid input shape, we expect BxCx*. Got: {input.shape}\")\n",
        "\n",
        "    if input.size(0) != target.size(0):\n",
        "        raise ValueError(f'Expected input batch_size ({input.size(0)}) to match target batch_size ({target.size(0)}).')\n",
        "\n",
        "    n = input.size(0)\n",
        "    out_size = (n,) + input.size()[2:]\n",
        "    if target.size()[1:] != input.size()[2:]:\n",
        "        raise ValueError(f'Expected target size {out_size}, got {target.size()}')\n",
        "\n",
        "    if not input.device == target.device:\n",
        "        raise ValueError(f\"input and target must be in the same device. Got: {input.device} and {target.device}\")\n",
        "\n",
        "    # compute softmax over the classes axis\n",
        "    input_soft: torch.Tensor = F.softmax(input, dim=1)\n",
        "    log_input_soft: torch.Tensor = F.log_softmax(input, dim=1)\n",
        "\n",
        "    # create the labels one hot tensor\n",
        "    target_one_hot: torch.Tensor = one_hot(target, num_classes=input.shape[1], device=input.device, dtype=input.dtype)\n",
        "\n",
        "    # compute the actual focal loss\n",
        "    weight = torch.pow(-input_soft + 1.0, gamma)\n",
        "\n",
        "    focal = -alpha * weight * log_input_soft\n",
        "    loss_tmp = torch.einsum('bc...,bc...->b...', (target_one_hot, focal))\n",
        "\n",
        "    if reduction == 'none':\n",
        "        loss = loss_tmp\n",
        "    elif reduction == 'mean':\n",
        "        loss = torch.mean(loss_tmp)\n",
        "    elif reduction == 'sum':\n",
        "        loss = torch.sum(loss_tmp)\n",
        "    else:\n",
        "        raise NotImplementedError(f\"Invalid reduction mode: {reduction}\")\n",
        "    return loss\n",
        "\n",
        "\n",
        "class FocalLoss(nn.Module):\n",
        "    def __init__(self, alpha: float, gamma: float = 2.0, reduction: str = 'none', eps: Optional[float] = None) -> None:\n",
        "        super().__init__()\n",
        "        self.alpha: float = alpha\n",
        "        self.gamma: float = gamma\n",
        "        self.reduction: str = reduction\n",
        "        self.eps: Optional[float] = eps\n",
        "\n",
        "    def forward(self, input: torch.Tensor, target: torch.Tensor) -> torch.Tensor:\n",
        "        return focal_loss(input, target, self.alpha, self.gamma, self.reduction, self.eps)\n"
      ],
      "execution_count": 212,
      "outputs": []
    },
    {
      "cell_type": "code",
      "metadata": {
        "id": "LIMOae7itdd-"
      },
      "source": [
        "cnn_imbalanced_trick1 = CNN().to(device)  # operate on GPU\n",
        "criterion = FocalLoss(**{\"alpha\": 0.5, \"gamma\": 2.0, \"reduction\": 'mean'})\n",
        "optimizer = optim.Adam(cnn_imbalanced_trick1.parameters(), lr=0.001)"
      ],
      "execution_count": 216,
      "outputs": []
    },
    {
      "cell_type": "code",
      "metadata": {
        "colab": {
          "base_uri": "https://localhost:8080/"
        },
        "id": "kIok08kfvS6P",
        "outputId": "760ff232-d2e2-47fd-d19a-4f268144e7a8"
      },
      "source": [
        "n_epoch = 10\n",
        "train_losses_cnn = []\n",
        "train_accuracies_cnn = []\n",
        "\n",
        "for epoch in range(n_epoch):      # loop over the dataset multiple times\n",
        "  train_epoch_loss_cnn = []       # capturing loss of batches in an epoch\n",
        "  correct = 0\n",
        "  processed = 0\n",
        "  for i, (data,target) in enumerate(trainloader_imbalanced):\n",
        "    data, target = data.to(device), target.to(device)\n",
        "    optimizer.zero_grad()\n",
        "    y_pred = cnn_imbalanced_trick1(data)\n",
        "    loss = criterion(y_pred, target)\n",
        "    loss.backward()\n",
        "    train_epoch_loss_cnn.append(loss.item())\n",
        "    optimizer.step()\n",
        "    \n",
        "    pred = y_pred.argmax(dim=1, keepdim=True)  # get the index of the max log-probability    \n",
        "    correct += pred.eq(target.view_as(pred)).sum().item()\n",
        "    processed += len(data)\n",
        "\n",
        "    if i % 50 == 0:\n",
        "      print(f'Epoch={epoch}   Loss={loss.item():.5f}   Batch_id={i}   Accuracy={100*correct/processed:0.2f}')\n",
        "\n",
        "  print(\"*\"*100)\n",
        "  train_losses_cnn.append(np.mean(np.array(train_epoch_loss_cnn)))\n",
        "  train_accuracies_cnn.append(100*correct/processed)"
      ],
      "execution_count": 217,
      "outputs": [
        {
          "output_type": "stream",
          "name": "stdout",
          "text": [
            "Epoch=0   Loss=1.88401   Batch_id=0   Accuracy=2.34\n",
            "Epoch=0   Loss=1.78991   Batch_id=50   Accuracy=6.53\n",
            "****************************************************************************************************\n",
            "Epoch=1   Loss=1.55489   Batch_id=0   Accuracy=10.16\n",
            "Epoch=1   Loss=1.59931   Batch_id=50   Accuracy=7.81\n",
            "****************************************************************************************************\n",
            "Epoch=2   Loss=1.55964   Batch_id=0   Accuracy=8.59\n",
            "Epoch=2   Loss=1.54036   Batch_id=50   Accuracy=9.63\n",
            "****************************************************************************************************\n",
            "Epoch=3   Loss=1.58870   Batch_id=0   Accuracy=12.50\n",
            "Epoch=3   Loss=1.49654   Batch_id=50   Accuracy=14.90\n",
            "****************************************************************************************************\n",
            "Epoch=4   Loss=1.47099   Batch_id=0   Accuracy=17.97\n",
            "Epoch=4   Loss=1.32412   Batch_id=50   Accuracy=17.92\n",
            "****************************************************************************************************\n",
            "Epoch=5   Loss=1.32008   Batch_id=0   Accuracy=18.75\n",
            "Epoch=5   Loss=1.05547   Batch_id=50   Accuracy=21.62\n",
            "****************************************************************************************************\n",
            "Epoch=6   Loss=1.22164   Batch_id=0   Accuracy=23.44\n",
            "Epoch=6   Loss=1.27144   Batch_id=50   Accuracy=24.82\n",
            "****************************************************************************************************\n",
            "Epoch=7   Loss=1.14440   Batch_id=0   Accuracy=30.47\n",
            "Epoch=7   Loss=1.21983   Batch_id=50   Accuracy=27.88\n",
            "****************************************************************************************************\n",
            "Epoch=8   Loss=0.98587   Batch_id=0   Accuracy=32.81\n",
            "Epoch=8   Loss=1.18799   Batch_id=50   Accuracy=30.42\n",
            "****************************************************************************************************\n",
            "Epoch=9   Loss=0.98323   Batch_id=0   Accuracy=33.59\n",
            "Epoch=9   Loss=1.12064   Batch_id=50   Accuracy=33.69\n",
            "****************************************************************************************************\n"
          ]
        }
      ]
    },
    {
      "cell_type": "code",
      "metadata": {
        "id": "AeuoXnCy0KXQ"
      },
      "source": [
        "torch.save(cnn_imbalanced_trick1.state_dict(), './cnn_cifar10_imbalanced_trick1.pth')"
      ],
      "execution_count": 93,
      "outputs": []
    },
    {
      "cell_type": "code",
      "metadata": {
        "colab": {
          "base_uri": "https://localhost:8080/"
        },
        "id": "AiBfRrb00eIZ",
        "outputId": "cc8d2cd5-80e0-4d09-ef8f-ffe483e072a6"
      },
      "source": [
        "with torch.no_grad():\n",
        "  test_epoch_loss_cnn = []       # capturing loss of batches in an epoch\n",
        "  correct = 0\n",
        "  processed = 0\n",
        "  for i, (data, target) in enumerate(testloader_imbalanced):\n",
        "    data, target = data.to(device), target.to(device)\n",
        "    y_pred = cnn_imbalanced_trick1(data)\n",
        "    loss = criterion(y_pred, target)\n",
        "    test_epoch_loss_cnn.append(loss.item())\n",
        "    pred = y_pred.argmax(dim=1, keepdim=True)  # get the index of the max log-probability    \n",
        "    correct += pred.eq(target.view_as(pred)).sum().item()\n",
        "    processed += len(data)\n",
        "\n",
        "    if i % 100 == 0:\n",
        "      print(f'Loss={loss.item():.5f} Batch_id={i} Accuracy={100*correct/processed:0.2f}')\n",
        "\n",
        "  print(\"*\"*100)\n",
        "  print(\"Test loss : \", np.mean(np.array(test_epoch_loss_cnn)))\n",
        "  print(\"Test Accuracy : \", 100*correct/processed)"
      ],
      "execution_count": 218,
      "outputs": [
        {
          "output_type": "stream",
          "name": "stdout",
          "text": [
            "Loss=1.79024 Batch_id=0 Accuracy=17.19\n",
            "****************************************************************************************************\n",
            "Test loss :  1.8266164541244507\n",
            "Test Accuracy :  15.16\n"
          ]
        }
      ]
    },
    {
      "cell_type": "markdown",
      "metadata": {
        "id": "dXZEZE4yN7O0"
      },
      "source": [
        "**Trick3: CLASS-BALANCED CrossEntropy LOSS (Cui et al. 2019)**"
      ]
    },
    {
      "cell_type": "code",
      "metadata": {
        "id": "1dl59wc3O8UH"
      },
      "source": [
        "# TODO: trick 3 implementation\n",
        "from pdb import set_trace as bp\n",
        "\n",
        "class CBLoss(nn.Module):\n",
        "    def __init__(self, beta: float, samples_per_cls: list, num_classes: int) -> None:\n",
        "        super().__init__()\n",
        "        self.beta: float = beta\n",
        "        self.samples_per_cls: list = samples_per_cls\n",
        "        self.num_classes: int = num_classes\n",
        "        effective_num = 1.0 - torch.pow(beta, samples_per_cls)\n",
        "        self.weights = (1.0 - beta) / effective_num\n",
        "        self.weights = ((weights / torch.sum(weights)) * num_classes).to(device)\n",
        "\n",
        "    def forward(self, input: torch.Tensor, target: torch.Tensor) -> torch.Tensor:\n",
        "        return F.cross_entropy(input = input, target = target, weight = self.weights)"
      ],
      "execution_count": 256,
      "outputs": []
    },
    {
      "cell_type": "code",
      "metadata": {
        "id": "h-sKpe-KQYsE"
      },
      "source": [
        "cnn_imbalanced_trick3 = CNN().to(device)  # operate on GPU\n",
        "samples_per_cls = torch.tensor(list(trainset_imbalanced.category_count_dict.values())).to(device)\n",
        "criterion = CBLoss(**{\"beta\": 0.999, \"samples_per_cls\":samples_per_cls, \"num_classes\":50})\n",
        "optimizer = optim.Adam(cnn_imbalanced_trick3.parameters(), lr=0.001)"
      ],
      "execution_count": 257,
      "outputs": []
    },
    {
      "cell_type": "code",
      "metadata": {
        "colab": {
          "base_uri": "https://localhost:8080/"
        },
        "id": "454vFOcTSv0k",
        "outputId": "a7bffe5f-fda7-4194-891e-0f2e3998495b"
      },
      "source": [
        "n_epoch = 10\n",
        "train_losses_cnn = []\n",
        "train_accuracies_cnn = []\n",
        "\n",
        "for epoch in range(n_epoch):  # loop over the dataset multiple times\n",
        "  train_epoch_loss_cnn = []       # capturing loss of batches in an epoch\n",
        "  correct = 0\n",
        "  processed = 0\n",
        "  for i, (data,target) in enumerate(trainloader_imbalanced):\n",
        "    data, target = data.to(device), target.to(device)\n",
        "    optimizer.zero_grad()\n",
        "    y_pred = cnn_imbalanced_trick3(data)\n",
        "    loss = criterion(y_pred, target)\n",
        "    loss.backward()\n",
        "    train_epoch_loss_cnn.append(loss.item())\n",
        "    optimizer.step()\n",
        "    \n",
        "    pred = y_pred.argmax(dim=1, keepdim=True)  # get the index of the max log-probability    \n",
        "    correct += pred.eq(target.view_as(pred)).sum().item()\n",
        "    processed += len(data)\n",
        "\n",
        "    if i % 50 == 0:\n",
        "      print(f'Epoch={epoch}   Loss={loss.item():.5f}   Batch_id={i}   Accuracy={100*correct/processed:0.2f}')\n",
        "\n",
        "  print(\"*\"*100)\n",
        "  train_losses_cnn.append(np.mean(np.array(train_epoch_loss_cnn)))\n",
        "  train_accuracies_cnn.append(100*correct/processed)"
      ],
      "execution_count": 258,
      "outputs": [
        {
          "output_type": "stream",
          "name": "stdout",
          "text": [
            "Epoch=0   Loss=3.91643   Batch_id=0   Accuracy=0.00\n",
            "Epoch=0   Loss=3.52467   Batch_id=50   Accuracy=6.98\n",
            "****************************************************************************************************\n",
            "Epoch=1   Loss=3.44793   Batch_id=0   Accuracy=6.25\n",
            "Epoch=1   Loss=3.14307   Batch_id=50   Accuracy=7.42\n",
            "****************************************************************************************************\n",
            "Epoch=2   Loss=3.32992   Batch_id=0   Accuracy=9.38\n",
            "Epoch=2   Loss=3.45034   Batch_id=50   Accuracy=11.57\n",
            "****************************************************************************************************\n",
            "Epoch=3   Loss=3.24084   Batch_id=0   Accuracy=10.16\n",
            "Epoch=3   Loss=3.28617   Batch_id=50   Accuracy=13.17\n",
            "****************************************************************************************************\n",
            "Epoch=4   Loss=3.39294   Batch_id=0   Accuracy=11.72\n",
            "Epoch=4   Loss=2.79673   Batch_id=50   Accuracy=15.97\n",
            "****************************************************************************************************\n",
            "Epoch=5   Loss=3.10941   Batch_id=0   Accuracy=15.62\n",
            "Epoch=5   Loss=3.36581   Batch_id=50   Accuracy=19.75\n",
            "****************************************************************************************************\n",
            "Epoch=6   Loss=3.17531   Batch_id=0   Accuracy=10.94\n",
            "Epoch=6   Loss=3.22428   Batch_id=50   Accuracy=21.18\n",
            "****************************************************************************************************\n",
            "Epoch=7   Loss=2.90547   Batch_id=0   Accuracy=24.22\n",
            "Epoch=7   Loss=3.02701   Batch_id=50   Accuracy=23.33\n",
            "****************************************************************************************************\n",
            "Epoch=8   Loss=2.76146   Batch_id=0   Accuracy=31.25\n",
            "Epoch=8   Loss=2.56624   Batch_id=50   Accuracy=25.72\n",
            "****************************************************************************************************\n",
            "Epoch=9   Loss=2.65221   Batch_id=0   Accuracy=27.34\n",
            "Epoch=9   Loss=3.10353   Batch_id=50   Accuracy=28.10\n",
            "****************************************************************************************************\n"
          ]
        }
      ]
    },
    {
      "cell_type": "code",
      "metadata": {
        "id": "rBceMW_mju04"
      },
      "source": [
        "torch.save(cnn_imbalanced_trick3.state_dict(), './cnn_cifar10_imbalanced_trick3.pth')"
      ],
      "execution_count": 259,
      "outputs": []
    },
    {
      "cell_type": "code",
      "metadata": {
        "colab": {
          "base_uri": "https://localhost:8080/"
        },
        "id": "jBGfp8M0ju1K",
        "outputId": "166ef0e4-2a79-4b57-9a7f-e7ce77150c32"
      },
      "source": [
        "with torch.no_grad():\n",
        "  test_epoch_loss_cnn = []       # capturing loss of batches in an epoch\n",
        "  correct = 0\n",
        "  processed = 0\n",
        "  for i, (data, target) in enumerate(testloader_imbalanced):\n",
        "    data, target = data.to(device), target.to(device)\n",
        "    y_pred = cnn_imbalanced_trick3(data)\n",
        "    loss = criterion(y_pred, target)\n",
        "    test_epoch_loss_cnn.append(loss.item())\n",
        "    pred = y_pred.argmax(dim=1, keepdim=True)  # get the index of the max log-probability    \n",
        "    correct += pred.eq(target.view_as(pred)).sum().item()\n",
        "    processed += len(data)\n",
        "\n",
        "    if i % 100 == 0:\n",
        "      print(f'Loss={loss.item():.5f} Batch_id={i} Accuracy={100*correct/processed:0.2f}')\n",
        "\n",
        "  print(\"*\"*100)\n",
        "  print(\"Test loss : \", np.mean(np.array(test_epoch_loss_cnn)))\n",
        "  print(\"Test Accuracy : \", 100*correct/processed)"
      ],
      "execution_count": 261,
      "outputs": [
        {
          "output_type": "stream",
          "name": "stdout",
          "text": [
            "Loss=3.54938 Batch_id=0 Accuracy=14.84\n",
            "****************************************************************************************************\n",
            "Test loss :  3.754081577062607\n",
            "Test Accuracy :  13.38\n"
          ]
        }
      ]
    },
    {
      "cell_type": "markdown",
      "metadata": {
        "id": "fLoXyZw_OFrz"
      },
      "source": [
        "**Evaluate and report the classification performance on CIFAR50 testing set.**\n",
        "\n",
        "I have evaluated the models after every trick. \n",
        "Results are tabulated as follows.\n",
        "\n",
        "\n",
        "| Experiment name                                               | Test Accuracy | Train Accuracy | Test Loss | Train Loss |\n",
        "|---------------------------------------------------------------|---------------|----------------|-----------|------------|\n",
        "| Base imbalanced model                                         | 10.92         | 25.99          | 4.2235    | 2.4941     |\n",
        "| Trick 1: Class-balanced sampling (Kang et al. 2020)           | 29.32         | 73.30          | 3.958     | 0.64389    |\n",
        "| Trick 2: Focal Loss (Lin et al. 2017)                         | 15.16         | 33.69          | 1.8266    | 1.12064    |\n",
        "| Trick 3: CLASS-BALANCED CrossEntropy LOSS (Cui et al. 2019)** | 13.38         | 28.10          | 3.754     | 3.10353    |"
      ]
    }
  ]
}